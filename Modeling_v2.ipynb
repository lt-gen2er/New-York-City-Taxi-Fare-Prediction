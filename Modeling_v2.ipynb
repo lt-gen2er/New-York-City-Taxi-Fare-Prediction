{
 "cells": [
  {
   "cell_type": "markdown",
   "metadata": {},
   "source": [
    "## Data Preprocessing"
   ]
  },
  {
   "cell_type": "code",
   "execution_count": 1,
   "metadata": {},
   "outputs": [
    {
     "data": {
      "text/html": [
       "<div>\n",
       "<style scoped>\n",
       "    .dataframe tbody tr th:only-of-type {\n",
       "        vertical-align: middle;\n",
       "    }\n",
       "\n",
       "    .dataframe tbody tr th {\n",
       "        vertical-align: top;\n",
       "    }\n",
       "\n",
       "    .dataframe thead th {\n",
       "        text-align: right;\n",
       "    }\n",
       "</style>\n",
       "<table border=\"1\" class=\"dataframe\">\n",
       "  <thead>\n",
       "    <tr style=\"text-align: right;\">\n",
       "      <th></th>\n",
       "      <th>passenger_count</th>\n",
       "      <th>H_Distance</th>\n",
       "      <th>pickup_longitude_range</th>\n",
       "      <th>pickup_latitude_range</th>\n",
       "      <th>dropoff_longitude_range</th>\n",
       "      <th>dropoff_latitude_range</th>\n",
       "      <th>hour</th>\n",
       "      <th>day</th>\n",
       "      <th>month</th>\n",
       "      <th>year</th>\n",
       "      <th>day_of_week</th>\n",
       "    </tr>\n",
       "  </thead>\n",
       "  <tbody>\n",
       "    <tr>\n",
       "      <th>0</th>\n",
       "      <td>1</td>\n",
       "      <td>1.030764</td>\n",
       "      <td>6</td>\n",
       "      <td>4</td>\n",
       "      <td>6</td>\n",
       "      <td>4</td>\n",
       "      <td>17</td>\n",
       "      <td>15</td>\n",
       "      <td>6</td>\n",
       "      <td>2009</td>\n",
       "      <td>0</td>\n",
       "    </tr>\n",
       "    <tr>\n",
       "      <th>1</th>\n",
       "      <td>1</td>\n",
       "      <td>8.450134</td>\n",
       "      <td>2</td>\n",
       "      <td>4</td>\n",
       "      <td>3</td>\n",
       "      <td>6</td>\n",
       "      <td>16</td>\n",
       "      <td>5</td>\n",
       "      <td>1</td>\n",
       "      <td>2010</td>\n",
       "      <td>1</td>\n",
       "    </tr>\n",
       "    <tr>\n",
       "      <th>2</th>\n",
       "      <td>2</td>\n",
       "      <td>1.389525</td>\n",
       "      <td>2</td>\n",
       "      <td>6</td>\n",
       "      <td>2</td>\n",
       "      <td>5</td>\n",
       "      <td>0</td>\n",
       "      <td>18</td>\n",
       "      <td>8</td>\n",
       "      <td>2011</td>\n",
       "      <td>3</td>\n",
       "    </tr>\n",
       "    <tr>\n",
       "      <th>3</th>\n",
       "      <td>1</td>\n",
       "      <td>2.799270</td>\n",
       "      <td>2</td>\n",
       "      <td>5</td>\n",
       "      <td>2</td>\n",
       "      <td>5</td>\n",
       "      <td>4</td>\n",
       "      <td>21</td>\n",
       "      <td>4</td>\n",
       "      <td>2012</td>\n",
       "      <td>5</td>\n",
       "    </tr>\n",
       "    <tr>\n",
       "      <th>4</th>\n",
       "      <td>1</td>\n",
       "      <td>1.999157</td>\n",
       "      <td>3</td>\n",
       "      <td>6</td>\n",
       "      <td>3</td>\n",
       "      <td>6</td>\n",
       "      <td>7</td>\n",
       "      <td>9</td>\n",
       "      <td>3</td>\n",
       "      <td>2010</td>\n",
       "      <td>1</td>\n",
       "    </tr>\n",
       "  </tbody>\n",
       "</table>\n",
       "</div>"
      ],
      "text/plain": [
       "   passenger_count  H_Distance  pickup_longitude_range  pickup_latitude_range  \\\n",
       "0                1    1.030764                       6                      4   \n",
       "1                1    8.450134                       2                      4   \n",
       "2                2    1.389525                       2                      6   \n",
       "3                1    2.799270                       2                      5   \n",
       "4                1    1.999157                       3                      6   \n",
       "\n",
       "   dropoff_longitude_range  dropoff_latitude_range  hour  day  month  year  \\\n",
       "0                        6                       4    17   15      6  2009   \n",
       "1                        3                       6    16    5      1  2010   \n",
       "2                        2                       5     0   18      8  2011   \n",
       "3                        2                       5     4   21      4  2012   \n",
       "4                        3                       6     7    9      3  2010   \n",
       "\n",
       "   day_of_week  \n",
       "0            0  \n",
       "1            1  \n",
       "2            3  \n",
       "3            5  \n",
       "4            1  "
      ]
     },
     "execution_count": 1,
     "metadata": {},
     "output_type": "execute_result"
    }
   ],
   "source": [
    "import pandas as pd\n",
    "import numpy as np\n",
    "from sklearn.metrics import mean_squared_error\n",
    "\n",
    "\n",
    "np.random.seed(42)\n",
    "\n",
    "#Import train and test dataset\n",
    "train = pd.read_csv(\"train.csv\",nrows=10000000)\n",
    "test = pd.read_csv(\"test.csv\")\n",
    "train.tail(10)\n",
    "\n",
    "#Since the missing values is just tiny part of the whole data, we drop them all\n",
    "train = train.dropna()\n",
    "\n",
    "#drop the negative amount since it doesn't make sense.\n",
    "train = train.drop(train[train['fare_amount']<0].index, axis=0)\n",
    "\n",
    "#drop the passenger amount which is larger than 5(each car can take 5 as maximum)\n",
    "train = train.drop(train[train['passenger_count']>5].index, axis = 0)\n",
    "\n",
    "#We can calulate the distance in a sphere when latitudes and longitudes are given by Haversine formula\n",
    "def haversine_distance(lat1, long1, lat2, long2):\n",
    "    data = [train]\n",
    "    for i in data:\n",
    "        R = 6371  #radius of earth in kilometers\n",
    "        #R = 3959 #radius of earth in miles\n",
    "        phi1 = np.radians(i[lat1])\n",
    "        phi2 = np.radians(i[lat2])\n",
    "    \n",
    "        delta_phi = np.radians(i[lat2]-i[lat1])\n",
    "        delta_lambda = np.radians(i[long2]-i[long1])\n",
    "    \n",
    "        #a = sin²((φB - φA)/2) + cos φA . cos φB . sin²((λB - λA)/2)\n",
    "        a = np.sin(delta_phi / 2.0) ** 2 + np.cos(phi1) * np.cos(phi2) * np.sin(delta_lambda / 2.0) ** 2\n",
    "    \n",
    "        #c = 2 * atan2( √a, √(1−a) )\n",
    "        c = 2 * np.arctan2(np.sqrt(a), np.sqrt(1-a))\n",
    "    \n",
    "        #d = R*c\n",
    "        d = (R * c) #in kilometers\n",
    "        i['H_Distance'] = d\n",
    "    return d\n",
    "\n",
    "haversine_distance('pickup_latitude', 'pickup_longitude', 'dropoff_latitude', 'dropoff_longitude')\n",
    "\n",
    "#latitude should between -90 to 90; Longitude should between -180 to 180. pick those are in this range.\n",
    "train = train.drop(train[(train['pickup_latitude']<-90)|(train['pickup_latitude']>90)].index, axis=0)\n",
    "train = train.drop(train[(train['pickup_longitude']<-180)|(train['pickup_longitude']>180)].index, axis=0)\n",
    "train = train.drop(train[(train['dropoff_latitude']<-90)|(train['dropoff_latitude']>90)].index, axis=0)\n",
    "train = train.drop(train[(train['dropoff_longitude']<-180)|(train['dropoff_longitude']>180)].index, axis=0)\n",
    "\n",
    "scale_l = [-74.1,-73.7, 40.55, 40.90]\n",
    "n = 10\n",
    "train = train.drop(train[(train['pickup_latitude']<scale_l[2])|(train['pickup_latitude']>scale_l[3])].index, axis=0)\n",
    "train = train.drop(train[(train['pickup_longitude']<scale_l[0])|(train['pickup_longitude']>scale_l[1])].index, axis=0)\n",
    "train = train.drop(train[(train['dropoff_latitude']<scale_l[2])|(train['dropoff_latitude']>scale_l[3])].index, axis=0)\n",
    "train = train.drop(train[(train['dropoff_longitude']<scale_l[0])|(train['dropoff_longitude']>scale_l[1])].index, axis=0)\n",
    "\n",
    "from sklearn import preprocessing\n",
    "le = preprocessing.LabelEncoder()\n",
    "\n",
    "\n",
    "train['pickup_longitude_range'] = le.fit_transform(pd.cut(train['pickup_longitude'], n))\n",
    "train['pickup_latitude_range'] = le.fit_transform(pd.cut(train['pickup_latitude'], n))\n",
    "train['dropoff_longitude_range'] = le.fit_transform(pd.cut(train['dropoff_longitude'], n))\n",
    "train['dropoff_latitude_range'] = le.fit_transform(pd.cut(train['dropoff_latitude'], n))\n",
    "\n",
    "train = train.drop(['pickup_longitude', 'pickup_latitude', 'dropoff_longitude', 'dropoff_latitude'], axis = 1)\n",
    "\n",
    "train['pickup_datetime'] = pd.to_datetime(arg=train['pickup_datetime'], infer_datetime_format=True)\n",
    "\n",
    "\n",
    "def add_new_date_time_features(dataset):\n",
    "    dataset['hour'] = dataset.pickup_datetime.dt.hour\n",
    "    dataset['day'] = dataset.pickup_datetime.dt.day\n",
    "    dataset['month'] = dataset.pickup_datetime.dt.month\n",
    "    dataset['year'] = dataset.pickup_datetime.dt.year\n",
    "    dataset['day_of_week'] = dataset.pickup_datetime.dt.dayofweek\n",
    "    return dataset\n",
    "\n",
    "train = add_new_date_time_features(train)\n",
    "\n",
    "train.drop(['key'], axis=1, inplace=True)\n",
    "train.drop(['pickup_datetime'], axis=1, inplace=True)\n",
    "\n",
    "\n",
    "\n",
    "y = train.pop('fare_amount')\n",
    "\n",
    "train.head()\n"
   ]
  },
  {
   "cell_type": "markdown",
   "metadata": {},
   "source": [
    "## LightGBM"
   ]
  },
  {
   "cell_type": "code",
   "execution_count": 26,
   "metadata": {
    "scrolled": true
   },
   "outputs": [
    {
     "name": "stderr",
     "output_type": "stream",
     "text": [
      "/usr/local/lib/python3.6/dist-packages/lightgbm/basic.py:1209: UserWarning: categorical_feature in Dataset is overridden.\n",
      "New categorical_feature is ['dropoff_latitude_range', 'dropoff_longitude_range', 'pickup_latitude_range', 'pickup_longitude_range']\n",
      "  'New categorical_feature is {}'.format(sorted(list(categorical_feature))))\n",
      "/usr/local/lib/python3.6/dist-packages/lightgbm/basic.py:762: UserWarning: categorical_feature in param dict is overridden.\n",
      "  warnings.warn('categorical_feature in param dict is overridden.')\n"
     ]
    },
    {
     "name": "stdout",
     "output_type": "stream",
     "text": [
      "Training until validation scores don't improve for 150 rounds.\n",
      "[50]\tvalid_0's rmse: 6.37109\tvalid_0's l1: 4.03471\n",
      "[100]\tvalid_0's rmse: 4.94873\tvalid_0's l1: 3.02531\n",
      "[150]\tvalid_0's rmse: 4.25856\tvalid_0's l1: 2.47205\n",
      "[200]\tvalid_0's rmse: 3.94253\tvalid_0's l1: 2.18265\n",
      "[250]\tvalid_0's rmse: 3.79463\tvalid_0's l1: 2.02501\n",
      "[300]\tvalid_0's rmse: 3.71891\tvalid_0's l1: 1.94187\n",
      "[350]\tvalid_0's rmse: 3.67496\tvalid_0's l1: 1.89219\n",
      "[400]\tvalid_0's rmse: 3.64744\tvalid_0's l1: 1.86055\n",
      "[450]\tvalid_0's rmse: 3.62729\tvalid_0's l1: 1.83903\n",
      "[500]\tvalid_0's rmse: 3.61178\tvalid_0's l1: 1.82304\n",
      "[550]\tvalid_0's rmse: 3.60034\tvalid_0's l1: 1.81169\n",
      "[600]\tvalid_0's rmse: 3.59116\tvalid_0's l1: 1.80329\n",
      "[650]\tvalid_0's rmse: 3.58378\tvalid_0's l1: 1.79616\n",
      "[700]\tvalid_0's rmse: 3.57722\tvalid_0's l1: 1.7906\n",
      "[750]\tvalid_0's rmse: 3.57131\tvalid_0's l1: 1.78549\n",
      "[800]\tvalid_0's rmse: 3.5654\tvalid_0's l1: 1.78064\n",
      "[850]\tvalid_0's rmse: 3.56062\tvalid_0's l1: 1.77665\n",
      "[900]\tvalid_0's rmse: 3.55619\tvalid_0's l1: 1.7733\n",
      "[950]\tvalid_0's rmse: 3.55227\tvalid_0's l1: 1.77021\n",
      "[1000]\tvalid_0's rmse: 3.54876\tvalid_0's l1: 1.7675\n",
      "[1050]\tvalid_0's rmse: 3.54567\tvalid_0's l1: 1.76503\n",
      "[1100]\tvalid_0's rmse: 3.5429\tvalid_0's l1: 1.76249\n",
      "[1150]\tvalid_0's rmse: 3.54082\tvalid_0's l1: 1.76065\n",
      "[1200]\tvalid_0's rmse: 3.53855\tvalid_0's l1: 1.759\n",
      "[1250]\tvalid_0's rmse: 3.53678\tvalid_0's l1: 1.75755\n",
      "[1300]\tvalid_0's rmse: 3.53459\tvalid_0's l1: 1.75572\n",
      "[1350]\tvalid_0's rmse: 3.53234\tvalid_0's l1: 1.75368\n",
      "[1400]\tvalid_0's rmse: 3.53059\tvalid_0's l1: 1.75228\n",
      "[1450]\tvalid_0's rmse: 3.52895\tvalid_0's l1: 1.75119\n",
      "[1500]\tvalid_0's rmse: 3.5276\tvalid_0's l1: 1.75014\n",
      "[1550]\tvalid_0's rmse: 3.52592\tvalid_0's l1: 1.74902\n",
      "[1600]\tvalid_0's rmse: 3.52454\tvalid_0's l1: 1.7479\n",
      "[1650]\tvalid_0's rmse: 3.5232\tvalid_0's l1: 1.7471\n",
      "[1700]\tvalid_0's rmse: 3.52191\tvalid_0's l1: 1.74613\n",
      "[1750]\tvalid_0's rmse: 3.52075\tvalid_0's l1: 1.7453\n",
      "[1800]\tvalid_0's rmse: 3.51945\tvalid_0's l1: 1.74433\n",
      "[1850]\tvalid_0's rmse: 3.51832\tvalid_0's l1: 1.74362\n",
      "[1900]\tvalid_0's rmse: 3.51742\tvalid_0's l1: 1.74292\n",
      "[1950]\tvalid_0's rmse: 3.51636\tvalid_0's l1: 1.74215\n",
      "[2000]\tvalid_0's rmse: 3.51539\tvalid_0's l1: 1.74145\n",
      "Did not meet early stopping. Best iteration is:\n",
      "[2000]\tvalid_0's rmse: 3.51539\tvalid_0's l1: 1.74145\n"
     ]
    }
   ],
   "source": [
    "from sklearn.model_selection import train_test_split\n",
    "import lightgbm as lgb\n",
    "X_train, X_test, y_train, y_test = train_test_split(train, y, test_size=0.1, random_state=42)\n",
    "lgb_X_train, lgb_X_test, lgb_y_train, lgb_y_test = train_test_split(X_train, y_train, test_size=0.25, random_state=42)\n",
    "lgb_train = lgb.Dataset(lgb_X_train, lgb_y_train)\n",
    "lgb_eval = lgb.Dataset(lgb_X_test, lgb_y_test, reference=lgb_train)\n",
    "# Define hyperparameters\n",
    "params = {\n",
    "    'boosting_type': 'gbdt',\n",
    "    'objective': 'regression',\n",
    "    'num_leaves': 64,\n",
    "    'max_depth': 15,\n",
    "    'min_data_in_leaf': 300,\n",
    "    'learning_rate': 0.01,\n",
    "    'metric': {'l1', 'l2_root'},\n",
    "    'feature_fraction': 0.9,\n",
    "    'bagging_fraction': 0.8,\n",
    "    'bagging_freq': 5,\n",
    "    'verbose': 0\n",
    "}\n",
    "\n",
    "lgbm = lgb.train(params, lgb_train, \n",
    "                 num_boost_round = 2000,\n",
    "                 valid_sets = lgb_eval,\n",
    "                 early_stopping_rounds = 150,\n",
    "                 verbose_eval = 50, \n",
    "                 categorical_feature = ['pickup_longitude_range', \n",
    "                                        'pickup_latitude_range', \n",
    "                                        'dropoff_longitude_range', \n",
    "                                        'dropoff_latitude_range'\n",
    "                                       ]\n",
    "                 )"
   ]
  },
  {
   "cell_type": "code",
   "execution_count": 27,
   "metadata": {},
   "outputs": [
    {
     "name": "stdout",
     "output_type": "stream",
     "text": [
      "The rmse of prediction is: 3.546330741687728\n"
     ]
    }
   ],
   "source": [
    "from sklearn.metrics import mean_squared_error\n",
    "y_pred = lgbm.predict(X_test, num_iteration=lgbm.best_iteration)\n",
    "print('The rmse of prediction is:', mean_squared_error(y_test, y_pred) ** 0.5)"
   ]
  },
  {
   "cell_type": "markdown",
   "metadata": {},
   "source": [
    "## XGBoost"
   ]
  },
  {
   "cell_type": "code",
   "execution_count": 5,
   "metadata": {},
   "outputs": [
    {
     "name": "stderr",
     "output_type": "stream",
     "text": [
      "/usr/local/lib/python3.6/dist-packages/xgboost/core.py:587: FutureWarning: Series.base is deprecated and will be removed in a future version\n",
      "  if getattr(data, 'base', None) is not None and \\\n"
     ]
    }
   ],
   "source": [
    "import xgboost as xgb\n",
    "xgb_train = xgb.DMatrix(X_train, label=y_train)\n",
    "xgb_test = xgb.DMatrix(X_test, label=y_test)"
   ]
  },
  {
   "cell_type": "code",
   "execution_count": 25,
   "metadata": {},
   "outputs": [
    {
     "name": "stdout",
     "output_type": "stream",
     "text": [
      "[0]\txgb_train-rmse:11.471\txgb_test-rmse:11.4802\n",
      "Multiple eval metrics have been passed: 'xgb_test-rmse' will be used for early stopping.\n",
      "\n",
      "Will train until xgb_test-rmse hasn't improved in 50 rounds.\n",
      "[100]\txgb_train-rmse:3.5834\txgb_test-rmse:3.60189\n",
      "[200]\txgb_train-rmse:3.53194\txgb_test-rmse:3.57124\n",
      "[300]\txgb_train-rmse:3.50574\txgb_test-rmse:3.56274\n",
      "[400]\txgb_train-rmse:3.48689\txgb_test-rmse:3.55798\n",
      "[500]\txgb_train-rmse:3.47071\txgb_test-rmse:3.5552\n",
      "[600]\txgb_train-rmse:3.45801\txgb_test-rmse:3.55366\n",
      "[700]\txgb_train-rmse:3.44586\txgb_test-rmse:3.55211\n",
      "[800]\txgb_train-rmse:3.4357\txgb_test-rmse:3.55131\n",
      "Stopping. Best iteration:\n",
      "[754]\txgb_train-rmse:3.44021\txgb_test-rmse:3.55085\n",
      "\n"
     ]
    }
   ],
   "source": [
    "params={'objective':'reg:linear',\n",
    "        'eval_metric':'rmse',\n",
    "        'learning_rate': 0.2,\n",
    "        'max_depth': 6,\n",
    "        'max_leaves': 0,\n",
    "        'n_estimators': 100,\n",
    "        'min_child_weight': 1,\n",
    "        'gamma': 0,\n",
    "        'grow_policy': 'lossguide',\n",
    "        'colsample_bytree': 0.85,\n",
    "        'min_child_weight': 1,\n",
    "        'tree_method': 'gpu_hist'}\n",
    "\n",
    "watchlist = [(xgb_train, 'xgb_train'), (xgb_test, 'xgb_test')]\n",
    "xgbm = xgb.train(params = params,\n",
    "                 dtrain = xgb_train,\n",
    "                 evals = watchlist,\n",
    "                 num_boost_round = 2000,\n",
    "                 early_stopping_rounds = 50,\n",
    "                 verbose_eval = 100) "
   ]
  },
  {
   "cell_type": "code",
   "execution_count": 11,
   "metadata": {},
   "outputs": [
    {
     "name": "stdout",
     "output_type": "stream",
     "text": [
      "The rmse of prediction is: 3.554639878635857\n"
     ]
    }
   ],
   "source": [
    "y_pred = xgbm.predict(xgb_test)\n",
    "print('The rmse of prediction is:', mean_squared_error(y_test, y_pred) ** 0.5)"
   ]
  },
  {
   "cell_type": "code",
   "execution_count": 22,
   "metadata": {},
   "outputs": [
    {
     "data": {
      "text/plain": [
       "<matplotlib.axes._subplots.AxesSubplot at 0x7fe76f67d358>"
      ]
     },
     "execution_count": 22,
     "metadata": {},
     "output_type": "execute_result"
    },
    {
     "data": {
      "image/png": "[encoded data removed]",
      "text/plain": [
       "<Figure size 432x288 with 1 Axes>"
      ]
     },
     "metadata": {
      "needs_background": "light"
     },
     "output_type": "display_data"
    }
   ],
   "source": [
    "xgb.plot_importance(xgbm, ax=None, height=0.2, xlim=None, ylim=None, title='Feature importance', xlabel='F score', ylabel='Features', importance_type='weight', max_num_features=None, grid=True, show_values=True)"
   ]
  },
  {
   "cell_type": "markdown",
   "metadata": {},
   "source": [
    "## Linear Regression"
   ]
  },
  {
   "cell_type": "code",
   "execution_count": 15,
   "metadata": {},
   "outputs": [
    {
     "name": "stdout",
     "output_type": "stream",
     "text": [
      "Training score: 0.77140\n",
      "Testing score: 0.77119\n",
      "The RMSE of prediction is: 4.357027676129611\n"
     ]
    }
   ],
   "source": [
    "from sklearn.linear_model import LinearRegression\n",
    "\n",
    "linreg = LinearRegression(n_jobs=-1)\n",
    "linreg.fit(X_train, y_train)\n",
    "\n",
    "print(\"Training score: {:.5f}\".format(linreg.score(X_train, y_train)))\n",
    "print(\"Testing score: {:.5f}\".format(linreg.score(X_test, y_test)))\n",
    "\n",
    "y_pred = linreg.predict(X_test)\n",
    "\n",
    "print('The RMSE of prediction is:', mean_squared_error(y_test, y_pred) ** 0.5)"
   ]
  },
  {
   "cell_type": "markdown",
   "metadata": {},
   "source": [
    "## Ridge Regression"
   ]
  },
  {
   "cell_type": "code",
   "execution_count": 14,
   "metadata": {},
   "outputs": [
    {
     "name": "stdout",
     "output_type": "stream",
     "text": [
      "Training set score: 0.77140\n",
      "Testing set score: 0.77119\n",
      "The RMSE of prediction is: 4.357027683901787\n"
     ]
    }
   ],
   "source": [
    "from sklearn.linear_model import RidgeCV\n",
    "\n",
    "reg_cv = RidgeCV(alphas = [0.001, 0.01, 0.1, 1, 5, 10], cv=5)\n",
    "\n",
    "reg_cv.fit(X_train, y_train)\n",
    "\n",
    "print(\"Training set score: {:.5f}\".format(reg_cv.score(X_train, y_train)))\n",
    "print(\"Testing set score: {:.5f}\".format(reg_cv.score(X_test, y_test)))\n",
    "\n",
    "y_pred = reg_cv.predict(X_test)\n",
    "\n",
    "print('The RMSE of prediction is:', mean_squared_error(y_test, y_pred) ** 0.5)"
   ]
  },
  {
   "cell_type": "markdown",
   "metadata": {},
   "source": [
    "## LASSO"
   ]
  },
  {
   "cell_type": "code",
   "execution_count": 16,
   "metadata": {},
   "outputs": [
    {
     "name": "stdout",
     "output_type": "stream",
     "text": [
      "Training set score: 0.77140\n",
      "Testing set score: 0.77119\n",
      "The RMSE of prediction is: 4.3570384304403\n"
     ]
    }
   ],
   "source": [
    "from sklearn.linear_model import LassoCV\n",
    "\n",
    "lasso_cv = LassoCV(alphas = [0.001, 0.01, 0.1, 1, 5, 10], cv=5)\n",
    "\n",
    "lasso_cv.fit(X_train, y_train)\n",
    "\n",
    "print(\"Training set score: {:.5f}\".format(lasso_cv.score(X_train, y_train)))\n",
    "print(\"Testing set score: {:.5f}\".format(lasso_cv.score(X_test, y_test)))\n",
    "\n",
    "y_pred = lasso_cv.predict(X_test)\n",
    "\n",
    "print('The RMSE of prediction is:', mean_squared_error(y_test, y_pred) ** 0.5)"
   ]
  },
  {
   "cell_type": "markdown",
   "metadata": {},
   "source": [
    "## Random Forest"
   ]
  },
  {
   "cell_type": "code",
   "execution_count": 18,
   "metadata": {},
   "outputs": [
    {
     "name": "stderr",
     "output_type": "stream",
     "text": [
      "/usr/local/lib/python3.6/dist-packages/sklearn/ensemble/forest.py:246: FutureWarning: The default value of n_estimators will change from 10 in version 0.20 to 100 in 0.22.\n",
      "  \"10 in version 0.20 to 100 in 0.22.\", FutureWarning)\n"
     ]
    },
    {
     "name": "stdout",
     "output_type": "stream",
     "text": [
      "Training set score: 0.96677\n",
      "Testing set score: 0.81927\n",
      "The RMSE of prediction is: 3.8722403145679527\n"
     ]
    }
   ],
   "source": [
    "from sklearn.ensemble import RandomForestRegressor\n",
    "\n",
    "rfreg = RandomForestRegressor(n_jobs=-1)\n",
    "# n_estimators = 10\n",
    "# min_samples_split: 2\n",
    "# min_samples_leaf: 1\n",
    "# boostrap: True\n",
    "\n",
    "rfreg.fit(X_train, y_train)\n",
    "\n",
    "print(\"Training set score: {:.5f}\".format(rfreg.score(X_train, y_train)))\n",
    "print(\"Testing set score: {:.5f}\".format(rfreg.score(X_test, y_test)))\n",
    "\n",
    "y_pred = rfreg.predict(X_test)\n",
    "\n",
    "print('The RMSE of prediction is:', mean_squared_error(y_test, y_pred) ** 0.5)"
   ]
  },
  {
   "cell_type": "code",
   "execution_count": 20,
   "metadata": {},
   "outputs": [
    {
     "data": {
      "text/plain": [
       "<matplotlib.axes._subplots.AxesSubplot at 0x7fe76ec9da58>"
      ]
     },
     "execution_count": 20,
     "metadata": {},
     "output_type": "execute_result"
    },
    {
     "data": {
      "image/png": "[encoded data removed]",
      "text/plain": [
       "<Figure size 432x288 with 1 Axes>"
      ]
     },
     "metadata": {
      "needs_background": "light"
     },
     "output_type": "display_data"
    }
   ],
   "source": [
    "# Feature Importance\n",
    "feat_importances = pd.Series(rfreg.feature_importances_, index=train.columns)\n",
    "feat_importances.nlargest(5).plot(kind='barh')"
   ]
  }
 ],
 "metadata": {
  "kernelspec": {
   "display_name": "Python 3",
   "language": "python",
   "name": "python3"
  },
  "language_info": {
   "codemirror_mode": {
    "name": "ipython",
    "version": 3
   },
   "file_extension": ".py",
   "mimetype": "text/x-python",
   "name": "python",
   "nbconvert_exporter": "python",
   "pygments_lexer": "ipython3",
   "version": "3.6.7"
  }
 },
 "nbformat": 4,
 "nbformat_minor": 2
}
